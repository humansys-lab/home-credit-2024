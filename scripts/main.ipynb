{
 "cells": [
  {
   "cell_type": "code",
   "execution_count": 1,
   "metadata": {},
   "outputs": [],
   "source": [
    "import pandas as pd\n",
    "import numpy as np\n",
    "import matplotlib.pyplot as plt\n",
    "import seaborn as sns\n",
    "import polars as pl\n",
    "import os\n",
    "from sklearn.model_selection import train_test_split\n",
    "from sklearn.metrics import roc_auc_score \n",
    "import lightgbm as lgb\n",
    "\n"
   ]
  },
  {
   "cell_type": "code",
   "execution_count": 2,
   "metadata": {},
   "outputs": [],
   "source": [
    "data_path = \"../data/raw/\"\n",
    "save_path = \"../data/result/\"\n",
    "\n",
    "train_base = pl.read_csv(os.path.join(data_path, \"csv_files/train/train_base.csv\"))\n"
   ]
  },
  {
   "cell_type": "code",
   "execution_count": 3,
   "metadata": {},
   "outputs": [],
   "source": [
    "def set_table_dtypes(df: pl.DataFrame) -> pl.DataFrame:\n",
    "    # implement here all desired dtypes for tables\n",
    "    # the following is just an example\n",
    "    for col in df.columns:\n",
    "        # last letter of column name will help you determine the type\n",
    "        if col[-1] in (\"P\", \"A\"):\n",
    "            df = df.with_columns(pl.col(col).cast(pl.Float64).alias(col))\n",
    "\n",
    "    return df\n",
    "\n",
    "\n",
    "def convert_strings(df: pd.DataFrame) -> pd.DataFrame:\n",
    "    for col in df.columns:  \n",
    "        if df[col].dtype.name in ['object', 'string']:\n",
    "            df[col] = df[col].astype(\"string\").astype('category')\n",
    "            current_categories = df[col].cat.categories\n",
    "            new_categories = current_categories.to_list() + [\"Unknown\"]\n",
    "            new_dtype = pd.CategoricalDtype(categories=new_categories, ordered=True)\n",
    "            df[col] = df[col].astype(new_dtype)\n",
    "    return df"
   ]
  },
  {
   "cell_type": "code",
   "execution_count": 4,
   "metadata": {},
   "outputs": [],
   "source": [
    "train_static_00 = pl.read_csv(os.path.join(data_path, \"csv_files/train/train_static_0_0.csv\")).pipe(set_table_dtypes)\n",
    "train_static_01 = pl.read_csv(os.path.join(data_path, \"csv_files/train/train_static_0_1.csv\")).pipe(set_table_dtypes)\n",
    "\n",
    "train_static_cb = pl.read_csv(os.path.join(data_path, \"csv_files/train/train_static_cb_0.csv\")).pipe(set_table_dtypes)"
   ]
  },
  {
   "cell_type": "code",
   "execution_count": 5,
   "metadata": {},
   "outputs": [],
   "source": [
    "train_static = pl.concat([train_static_00, train_static_01], how=\"vertical_relaxed\")\n"
   ]
  },
  {
   "cell_type": "code",
   "execution_count": 6,
   "metadata": {},
   "outputs": [],
   "source": [
    "train_static_cb = pl.read_csv(data_path + \"csv_files/train/train_static_cb_0.csv\").pipe(set_table_dtypes)\n",
    "train_person_1 = pl.read_csv(data_path + \"csv_files/train/train_person_1.csv\").pipe(set_table_dtypes) \n",
    "train_credit_bureau_b_2 = pl.read_csv(data_path + \"csv_files/train/train_credit_bureau_b_2.csv\").pipe(set_table_dtypes) "
   ]
  },
  {
   "cell_type": "code",
   "execution_count": 7,
   "metadata": {},
   "outputs": [],
   "source": [
    "test_basetable = pl.read_csv(data_path + \"csv_files/test/test_base.csv\")\n",
    "test_static = pl.concat(\n",
    "    [\n",
    "        pl.read_csv(data_path + \"csv_files/test/test_static_0_0.csv\").pipe(set_table_dtypes),\n",
    "        pl.read_csv(data_path + \"csv_files/test/test_static_0_1.csv\").pipe(set_table_dtypes),\n",
    "        pl.read_csv(data_path + \"csv_files/test/test_static_0_2.csv\").pipe(set_table_dtypes),\n",
    "    ],\n",
    "    how=\"vertical_relaxed\",\n",
    ")\n",
    "test_static_cb = pl.read_csv(data_path + \"csv_files/test/test_static_cb_0.csv\").pipe(set_table_dtypes)\n",
    "test_person_1 = pl.read_csv(data_path + \"csv_files/test/test_person_1.csv\").pipe(set_table_dtypes) \n",
    "test_credit_bureau_b_2 = pl.read_csv(data_path + \"csv_files/test/test_credit_bureau_b_2.csv\").pipe(set_table_dtypes) "
   ]
  },
  {
   "cell_type": "code",
   "execution_count": 8,
   "metadata": {},
   "outputs": [
    {
     "data": {
      "text/html": [
       "<div><style>\n",
       ".dataframe > thead > tr,\n",
       ".dataframe > tbody > tr {\n",
       "  text-align: right;\n",
       "  white-space: pre-wrap;\n",
       "}\n",
       "</style>\n",
       "<small>shape: (5, 3)</small><table border=\"1\" class=\"dataframe\"><thead><tr><th>case_id</th><th>mainoccupationinc_384A_max</th><th>mainoccupationinc_384A_any_selfemployed</th></tr><tr><td>i64</td><td>f64</td><td>bool</td></tr></thead><tbody><tr><td>951523</td><td>40000.0</td><td>false</td></tr><tr><td>1277786</td><td>30000.0</td><td>false</td></tr><tr><td>1388026</td><td>70000.0</td><td>false</td></tr><tr><td>1489480</td><td>36000.0</td><td>false</td></tr><tr><td>2548986</td><td>56000.0</td><td>false</td></tr></tbody></table></div>"
      ],
      "text/plain": [
       "shape: (5, 3)\n",
       "┌─────────┬────────────────────────────┬───────────────────────────────────┐\n",
       "│ case_id ┆ mainoccupationinc_384A_max ┆ mainoccupationinc_384A_any_selfe… │\n",
       "│ ---     ┆ ---                        ┆ ---                               │\n",
       "│ i64     ┆ f64                        ┆ bool                              │\n",
       "╞═════════╪════════════════════════════╪═══════════════════════════════════╡\n",
       "│ 951523  ┆ 40000.0                    ┆ false                             │\n",
       "│ 1277786 ┆ 30000.0                    ┆ false                             │\n",
       "│ 1388026 ┆ 70000.0                    ┆ false                             │\n",
       "│ 1489480 ┆ 36000.0                    ┆ false                             │\n",
       "│ 2548986 ┆ 56000.0                    ┆ false                             │\n",
       "└─────────┴────────────────────────────┴───────────────────────────────────┘"
      ]
     },
     "execution_count": 8,
     "metadata": {},
     "output_type": "execute_result"
    }
   ],
   "source": [
    "train_person_1_feats_1 = train_person_1.group_by(\"case_id\").agg(\n",
    "    pl.col(\"mainoccupationinc_384A\").max().alias(\"mainoccupationinc_384A_max\"),\n",
    "    (pl.col(\"incometype_1044T\") == \"SELFEMPLOYED\").max().alias(\"mainoccupationinc_384A_any_selfemployed\"))\n",
    "train_person_1_feats_1.head()"
   ]
  },
  {
   "cell_type": "code",
   "execution_count": 9,
   "metadata": {},
   "outputs": [],
   "source": [
    "train_person_1_feats_2  = train_person_1.select([\"case_id\", \"num_group1\", \"housetype_905L\"]).filter(pl.col(\"num_group1\") == 0)\n",
    "train_person_1_feats_2 = train_person_1_feats_2.drop(\"num_group1\").rename({\"housetype_905L\": \"person_housetype\"})"
   ]
  },
  {
   "cell_type": "code",
   "execution_count": 10,
   "metadata": {},
   "outputs": [
    {
     "data": {
      "text/html": [
       "<div><style>\n",
       ".dataframe > thead > tr,\n",
       ".dataframe > tbody > tr {\n",
       "  text-align: right;\n",
       "  white-space: pre-wrap;\n",
       "}\n",
       "</style>\n",
       "<small>shape: (36_447, 3)</small><table border=\"1\" class=\"dataframe\"><thead><tr><th>case_id</th><th>pmts_pmtsoverdue_635A_max</th><th>pmts_dpdvalue_108P_over31</th></tr><tr><td>i64</td><td>f64</td><td>bool</td></tr></thead><tbody><tr><td>1583732</td><td>8.0</td><td>true</td></tr><tr><td>142499</td><td>0.0</td><td>false</td></tr><tr><td>54803</td><td>11.400001</td><td>true</td></tr><tr><td>1429696</td><td>0.0</td><td>false</td></tr><tr><td>1781001</td><td>0.0</td><td>false</td></tr><tr><td>&hellip;</td><td>&hellip;</td><td>&hellip;</td></tr><tr><td>1447244</td><td>4.8</td><td>true</td></tr><tr><td>680825</td><td>0.0</td><td>false</td></tr><tr><td>1744922</td><td>4.8</td><td>true</td></tr><tr><td>1025821</td><td>0.0</td><td>false</td></tr><tr><td>1012712</td><td>0.0</td><td>false</td></tr></tbody></table></div>"
      ],
      "text/plain": [
       "shape: (36_447, 3)\n",
       "┌─────────┬───────────────────────────┬───────────────────────────┐\n",
       "│ case_id ┆ pmts_pmtsoverdue_635A_max ┆ pmts_dpdvalue_108P_over31 │\n",
       "│ ---     ┆ ---                       ┆ ---                       │\n",
       "│ i64     ┆ f64                       ┆ bool                      │\n",
       "╞═════════╪═══════════════════════════╪═══════════════════════════╡\n",
       "│ 1583732 ┆ 8.0                       ┆ true                      │\n",
       "│ 142499  ┆ 0.0                       ┆ false                     │\n",
       "│ 54803   ┆ 11.400001                 ┆ true                      │\n",
       "│ 1429696 ┆ 0.0                       ┆ false                     │\n",
       "│ 1781001 ┆ 0.0                       ┆ false                     │\n",
       "│ …       ┆ …                         ┆ …                         │\n",
       "│ 1447244 ┆ 4.8                       ┆ true                      │\n",
       "│ 680825  ┆ 0.0                       ┆ false                     │\n",
       "│ 1744922 ┆ 4.8                       ┆ true                      │\n",
       "│ 1025821 ┆ 0.0                       ┆ false                     │\n",
       "│ 1012712 ┆ 0.0                       ┆ false                     │\n",
       "└─────────┴───────────────────────────┴───────────────────────────┘"
      ]
     },
     "execution_count": 10,
     "metadata": {},
     "output_type": "execute_result"
    }
   ],
   "source": [
    "train_credit_bureau_b_2_feats = train_credit_bureau_b_2.group_by(\"case_id\").agg(\n",
    "    pl.col(\"pmts_pmtsoverdue_635A\").max().alias(\"pmts_pmtsoverdue_635A_max\"),\n",
    "    (pl.col(\"pmts_dpdvalue_108P\") > 31).max().alias(\"pmts_dpdvalue_108P_over31\")\n",
    ")\n",
    "\n",
    "train_credit_bureau_b_2_feats"
   ]
  },
  {
   "cell_type": "code",
   "execution_count": 11,
   "metadata": {},
   "outputs": [
    {
     "data": {
      "text/html": [
       "<div><style>\n",
       ".dataframe > thead > tr,\n",
       ".dataframe > tbody > tr {\n",
       "  text-align: right;\n",
       "  white-space: pre-wrap;\n",
       "}\n",
       "</style>\n",
       "<small>shape: (1_286_755, 6)</small><table border=\"1\" class=\"dataframe\"><thead><tr><th>case_id</th><th>num_group1</th><th>num_group2</th><th>pmts_date_1107D</th><th>pmts_dpdvalue_108P</th><th>pmts_pmtsoverdue_635A</th></tr><tr><td>i64</td><td>i64</td><td>i64</td><td>str</td><td>f64</td><td>f64</td></tr></thead><tbody><tr><td>467</td><td>0</td><td>0</td><td>&quot;2018-11-15&quot;</td><td>null</td><td>null</td></tr><tr><td>467</td><td>0</td><td>1</td><td>&quot;2018-12-15&quot;</td><td>null</td><td>null</td></tr><tr><td>467</td><td>1</td><td>0</td><td>&quot;2018-12-15&quot;</td><td>null</td><td>null</td></tr><tr><td>467</td><td>2</td><td>0</td><td>&quot;2016-10-15&quot;</td><td>0.0</td><td>0.0</td></tr><tr><td>467</td><td>2</td><td>1</td><td>&quot;2016-11-15&quot;</td><td>0.0</td><td>0.0</td></tr><tr><td>&hellip;</td><td>&hellip;</td><td>&hellip;</td><td>&hellip;</td><td>&hellip;</td><td>&hellip;</td></tr><tr><td>2703436</td><td>1</td><td>31</td><td>&quot;2020-05-15&quot;</td><td>0.0</td><td>0.0</td></tr><tr><td>2703436</td><td>1</td><td>32</td><td>&quot;2020-06-15&quot;</td><td>0.0</td><td>0.0</td></tr><tr><td>2703436</td><td>1</td><td>33</td><td>&quot;2020-07-15&quot;</td><td>0.0</td><td>0.0</td></tr><tr><td>2703436</td><td>1</td><td>34</td><td>&quot;2020-08-15&quot;</td><td>0.0</td><td>0.0</td></tr><tr><td>2703436</td><td>1</td><td>35</td><td>&quot;2020-09-15&quot;</td><td>0.0</td><td>0.0</td></tr></tbody></table></div>"
      ],
      "text/plain": [
       "shape: (1_286_755, 6)\n",
       "┌─────────┬────────────┬────────────┬─────────────────┬────────────────────┬───────────────────────┐\n",
       "│ case_id ┆ num_group1 ┆ num_group2 ┆ pmts_date_1107D ┆ pmts_dpdvalue_108P ┆ pmts_pmtsoverdue_635A │\n",
       "│ ---     ┆ ---        ┆ ---        ┆ ---             ┆ ---                ┆ ---                   │\n",
       "│ i64     ┆ i64        ┆ i64        ┆ str             ┆ f64                ┆ f64                   │\n",
       "╞═════════╪════════════╪════════════╪═════════════════╪════════════════════╪═══════════════════════╡\n",
       "│ 467     ┆ 0          ┆ 0          ┆ 2018-11-15      ┆ null               ┆ null                  │\n",
       "│ 467     ┆ 0          ┆ 1          ┆ 2018-12-15      ┆ null               ┆ null                  │\n",
       "│ 467     ┆ 1          ┆ 0          ┆ 2018-12-15      ┆ null               ┆ null                  │\n",
       "│ 467     ┆ 2          ┆ 0          ┆ 2016-10-15      ┆ 0.0                ┆ 0.0                   │\n",
       "│ 467     ┆ 2          ┆ 1          ┆ 2016-11-15      ┆ 0.0                ┆ 0.0                   │\n",
       "│ …       ┆ …          ┆ …          ┆ …               ┆ …                  ┆ …                     │\n",
       "│ 2703436 ┆ 1          ┆ 31         ┆ 2020-05-15      ┆ 0.0                ┆ 0.0                   │\n",
       "│ 2703436 ┆ 1          ┆ 32         ┆ 2020-06-15      ┆ 0.0                ┆ 0.0                   │\n",
       "│ 2703436 ┆ 1          ┆ 33         ┆ 2020-07-15      ┆ 0.0                ┆ 0.0                   │\n",
       "│ 2703436 ┆ 1          ┆ 34         ┆ 2020-08-15      ┆ 0.0                ┆ 0.0                   │\n",
       "│ 2703436 ┆ 1          ┆ 35         ┆ 2020-09-15      ┆ 0.0                ┆ 0.0                   │\n",
       "└─────────┴────────────┴────────────┴─────────────────┴────────────────────┴───────────────────────┘"
      ]
     },
     "execution_count": 11,
     "metadata": {},
     "output_type": "execute_result"
    }
   ],
   "source": [
    "train_credit_bureau_b_2"
   ]
  },
  {
   "cell_type": "code",
   "execution_count": 12,
   "metadata": {},
   "outputs": [
    {
     "name": "stdout",
     "output_type": "stream",
     "text": [
      "['amtinstpaidbefduel24m_4187115A', 'annuity_780A', 'annuitynextmonth_57A', 'avginstallast24m_3658937A', 'avglnamtstart24m_4525187A', 'avgoutstandbalancel6m_4187114A', 'avgpmtlast12m_4525200A', 'credamount_770A', 'currdebt_22A', 'currdebtcredtyperange_828A', 'disbursedcredamount_1113A', 'downpmt_116A', 'inittransactionamount_650A', 'lastapprcommoditycat_1041M', 'lastapprcommoditytypec_5251766M', 'lastapprcredamount_781A', 'lastcancelreason_561M', 'lastotherinc_902A', 'lastotherlnsexpense_631A', 'lastrejectcommoditycat_161M', 'lastrejectcommodtypec_5251769M', 'lastrejectcredamount_222A', 'lastrejectreason_759M', 'lastrejectreasonclient_4145040M', 'maininc_215A', 'maxannuity_159A', 'maxannuity_4075009A', 'maxdebt4_972A', 'maxinstallast24m_3658928A', 'maxlnamtstart6m_4525199A', 'maxoutstandbalancel12m_4187113A', 'maxpmtlast3m_4525190A', 'previouscontdistrict_112M', 'price_1097A', 'sumoutstandtotal_3546847A', 'sumoutstandtotalest_4493215A', 'totaldebt_9A', 'totalsettled_863A', 'totinstallast1m_4525188A']\n",
      "['description_5085714M', 'education_1103M', 'education_88M', 'maritalst_385M', 'maritalst_893M', 'pmtaverage_3A', 'pmtaverage_4527227A', 'pmtaverage_4955615A', 'pmtssum_45A']\n"
     ]
    }
   ],
   "source": [
    "# We will process in this examples only A-type and M-type columns, so we need to select them.\n",
    "selected_static_cols = []\n",
    "for col in train_static.columns:\n",
    "    if col[-1] in (\"A\", \"M\"):\n",
    "        selected_static_cols.append(col)\n",
    "print(selected_static_cols)\n",
    "\n",
    "selected_static_cb_cols = []\n",
    "for col in train_static_cb.columns:\n",
    "    if col[-1] in (\"A\", \"M\"):\n",
    "        selected_static_cb_cols.append(col)\n",
    "print(selected_static_cb_cols)\n",
    "\n",
    "# Join all tables together.\n",
    "data = train_base.join(\n",
    "    train_static.select([\"case_id\"]+selected_static_cols), how=\"left\", on=\"case_id\"\n",
    ").join(\n",
    "    train_static_cb.select([\"case_id\"]+selected_static_cb_cols), how=\"left\", on=\"case_id\"\n",
    ").join(\n",
    "    train_person_1_feats_1, how=\"left\", on=\"case_id\"\n",
    ").join(\n",
    "    train_person_1_feats_2, how=\"left\", on=\"case_id\"\n",
    ").join(\n",
    "    train_credit_bureau_b_2_feats, how=\"left\", on=\"case_id\"\n",
    ")"
   ]
  },
  {
   "cell_type": "code",
   "execution_count": 13,
   "metadata": {},
   "outputs": [
    {
     "data": {
      "text/html": [
       "<div><style>\n",
       ".dataframe > thead > tr,\n",
       ".dataframe > tbody > tr {\n",
       "  text-align: right;\n",
       "  white-space: pre-wrap;\n",
       "}\n",
       "</style>\n",
       "<small>shape: (1_526_659, 58)</small><table border=\"1\" class=\"dataframe\"><thead><tr><th>case_id</th><th>date_decision</th><th>MONTH</th><th>WEEK_NUM</th><th>target</th><th>amtinstpaidbefduel24m_4187115A</th><th>annuity_780A</th><th>annuitynextmonth_57A</th><th>avginstallast24m_3658937A</th><th>avglnamtstart24m_4525187A</th><th>avgoutstandbalancel6m_4187114A</th><th>avgpmtlast12m_4525200A</th><th>credamount_770A</th><th>currdebt_22A</th><th>currdebtcredtyperange_828A</th><th>disbursedcredamount_1113A</th><th>downpmt_116A</th><th>inittransactionamount_650A</th><th>lastapprcommoditycat_1041M</th><th>lastapprcommoditytypec_5251766M</th><th>lastapprcredamount_781A</th><th>lastcancelreason_561M</th><th>lastotherinc_902A</th><th>lastotherlnsexpense_631A</th><th>lastrejectcommoditycat_161M</th><th>lastrejectcommodtypec_5251769M</th><th>lastrejectcredamount_222A</th><th>lastrejectreason_759M</th><th>lastrejectreasonclient_4145040M</th><th>maininc_215A</th><th>maxannuity_159A</th><th>maxannuity_4075009A</th><th>maxdebt4_972A</th><th>maxinstallast24m_3658928A</th><th>maxlnamtstart6m_4525199A</th><th>maxoutstandbalancel12m_4187113A</th><th>maxpmtlast3m_4525190A</th><th>previouscontdistrict_112M</th><th>price_1097A</th><th>sumoutstandtotal_3546847A</th><th>sumoutstandtotalest_4493215A</th><th>totaldebt_9A</th><th>totalsettled_863A</th><th>totinstallast1m_4525188A</th><th>description_5085714M</th><th>education_1103M</th><th>education_88M</th><th>maritalst_385M</th><th>maritalst_893M</th><th>pmtaverage_3A</th><th>pmtaverage_4527227A</th><th>pmtaverage_4955615A</th><th>pmtssum_45A</th><th>mainoccupationinc_384A_max</th><th>mainoccupationinc_384A_any_selfemployed</th><th>person_housetype</th><th>pmts_pmtsoverdue_635A_max</th><th>pmts_dpdvalue_108P_over31</th></tr><tr><td>i64</td><td>str</td><td>i64</td><td>i64</td><td>i64</td><td>f64</td><td>f64</td><td>f64</td><td>f64</td><td>f64</td><td>f64</td><td>f64</td><td>f64</td><td>f64</td><td>f64</td><td>f64</td><td>f64</td><td>f64</td><td>str</td><td>str</td><td>f64</td><td>str</td><td>f64</td><td>f64</td><td>str</td><td>str</td><td>f64</td><td>str</td><td>str</td><td>f64</td><td>f64</td><td>f64</td><td>f64</td><td>f64</td><td>f64</td><td>f64</td><td>f64</td><td>str</td><td>f64</td><td>f64</td><td>f64</td><td>f64</td><td>f64</td><td>f64</td><td>str</td><td>str</td><td>str</td><td>str</td><td>str</td><td>f64</td><td>f64</td><td>f64</td><td>f64</td><td>f64</td><td>bool</td><td>str</td><td>f64</td><td>bool</td></tr></thead><tbody><tr><td>0</td><td>&quot;2019-01-03&quot;</td><td>201901</td><td>0</td><td>0</td><td>null</td><td>1917.6</td><td>0.0</td><td>null</td><td>null</td><td>null</td><td>null</td><td>30000.0</td><td>0.0</td><td>0.0</td><td>30000.0</td><td>0.0</td><td>null</td><td>&quot;a55475b1&quot;</td><td>&quot;a55475b1&quot;</td><td>null</td><td>&quot;a55475b1&quot;</td><td>null</td><td>null</td><td>&quot;a55475b1&quot;</td><td>&quot;a55475b1&quot;</td><td>null</td><td>&quot;a55475b1&quot;</td><td>&quot;a55475b1&quot;</td><td>null</td><td>0.0</td><td>null</td><td>0.0</td><td>null</td><td>null</td><td>null</td><td>null</td><td>&quot;a55475b1&quot;</td><td>null</td><td>null</td><td>null</td><td>0.0</td><td>0.0</td><td>null</td><td>null</td><td>null</td><td>null</td><td>null</td><td>null</td><td>null</td><td>null</td><td>null</td><td>null</td><td>10800.0</td><td>false</td><td>null</td><td>null</td><td>null</td></tr><tr><td>1</td><td>&quot;2019-01-03&quot;</td><td>201901</td><td>0</td><td>0</td><td>null</td><td>3134.0</td><td>0.0</td><td>null</td><td>null</td><td>null</td><td>null</td><td>19999.8</td><td>0.0</td><td>0.0</td><td>19999.8</td><td>0.0</td><td>null</td><td>&quot;a55475b1&quot;</td><td>&quot;a55475b1&quot;</td><td>null</td><td>&quot;a55475b1&quot;</td><td>null</td><td>null</td><td>&quot;a55475b1&quot;</td><td>&quot;a55475b1&quot;</td><td>null</td><td>&quot;a55475b1&quot;</td><td>&quot;a55475b1&quot;</td><td>null</td><td>0.0</td><td>null</td><td>0.0</td><td>null</td><td>null</td><td>null</td><td>null</td><td>&quot;a55475b1&quot;</td><td>null</td><td>null</td><td>null</td><td>0.0</td><td>0.0</td><td>null</td><td>null</td><td>null</td><td>null</td><td>null</td><td>null</td><td>null</td><td>null</td><td>null</td><td>null</td><td>10000.0</td><td>false</td><td>null</td><td>null</td><td>null</td></tr><tr><td>2</td><td>&quot;2019-01-04&quot;</td><td>201901</td><td>0</td><td>0</td><td>null</td><td>4937.0</td><td>0.0</td><td>null</td><td>null</td><td>null</td><td>null</td><td>78000.0</td><td>0.0</td><td>0.0</td><td>78000.0</td><td>0.0</td><td>null</td><td>&quot;a55475b1&quot;</td><td>&quot;a55475b1&quot;</td><td>null</td><td>&quot;a55475b1&quot;</td><td>null</td><td>null</td><td>&quot;a55475b1&quot;</td><td>&quot;a55475b1&quot;</td><td>10000.0</td><td>&quot;a55475b1&quot;</td><td>&quot;a55475b1&quot;</td><td>null</td><td>0.0</td><td>null</td><td>0.0</td><td>null</td><td>null</td><td>null</td><td>null</td><td>&quot;a55475b1&quot;</td><td>null</td><td>null</td><td>null</td><td>0.0</td><td>0.0</td><td>null</td><td>null</td><td>null</td><td>null</td><td>null</td><td>null</td><td>null</td><td>null</td><td>null</td><td>null</td><td>14000.0</td><td>false</td><td>null</td><td>null</td><td>null</td></tr><tr><td>3</td><td>&quot;2019-01-03&quot;</td><td>201901</td><td>0</td><td>0</td><td>null</td><td>4643.6</td><td>0.0</td><td>null</td><td>null</td><td>null</td><td>null</td><td>40000.0</td><td>0.0</td><td>0.0</td><td>40000.0</td><td>0.0</td><td>null</td><td>&quot;a55475b1&quot;</td><td>&quot;a55475b1&quot;</td><td>null</td><td>&quot;P94_109_143&quot;</td><td>null</td><td>null</td><td>&quot;a55475b1&quot;</td><td>&quot;a55475b1&quot;</td><td>59999.8</td><td>&quot;P94_109_143&quot;</td><td>&quot;a55475b1&quot;</td><td>null</td><td>0.0</td><td>null</td><td>0.0</td><td>null</td><td>null</td><td>null</td><td>null</td><td>&quot;a55475b1&quot;</td><td>null</td><td>null</td><td>null</td><td>0.0</td><td>0.0</td><td>null</td><td>null</td><td>null</td><td>null</td><td>null</td><td>null</td><td>null</td><td>null</td><td>null</td><td>null</td><td>10000.0</td><td>false</td><td>null</td><td>null</td><td>null</td></tr><tr><td>4</td><td>&quot;2019-01-04&quot;</td><td>201901</td><td>0</td><td>1</td><td>null</td><td>3390.2</td><td>0.0</td><td>null</td><td>null</td><td>null</td><td>null</td><td>44000.0</td><td>0.0</td><td>0.0</td><td>44000.0</td><td>0.0</td><td>null</td><td>&quot;a55475b1&quot;</td><td>&quot;a55475b1&quot;</td><td>null</td><td>&quot;P24_27_36&quot;</td><td>null</td><td>null</td><td>&quot;a55475b1&quot;</td><td>&quot;a55475b1&quot;</td><td>null</td><td>&quot;a55475b1&quot;</td><td>&quot;a55475b1&quot;</td><td>null</td><td>0.0</td><td>null</td><td>0.0</td><td>null</td><td>null</td><td>null</td><td>null</td><td>&quot;a55475b1&quot;</td><td>null</td><td>null</td><td>null</td><td>0.0</td><td>0.0</td><td>null</td><td>null</td><td>null</td><td>null</td><td>null</td><td>null</td><td>null</td><td>null</td><td>null</td><td>null</td><td>24000.0</td><td>false</td><td>null</td><td>null</td><td>null</td></tr><tr><td>&hellip;</td><td>&hellip;</td><td>&hellip;</td><td>&hellip;</td><td>&hellip;</td><td>&hellip;</td><td>&hellip;</td><td>&hellip;</td><td>&hellip;</td><td>&hellip;</td><td>&hellip;</td><td>&hellip;</td><td>&hellip;</td><td>&hellip;</td><td>&hellip;</td><td>&hellip;</td><td>&hellip;</td><td>&hellip;</td><td>&hellip;</td><td>&hellip;</td><td>&hellip;</td><td>&hellip;</td><td>&hellip;</td><td>&hellip;</td><td>&hellip;</td><td>&hellip;</td><td>&hellip;</td><td>&hellip;</td><td>&hellip;</td><td>&hellip;</td><td>&hellip;</td><td>&hellip;</td><td>&hellip;</td><td>&hellip;</td><td>&hellip;</td><td>&hellip;</td><td>&hellip;</td><td>&hellip;</td><td>&hellip;</td><td>&hellip;</td><td>&hellip;</td><td>&hellip;</td><td>&hellip;</td><td>&hellip;</td><td>&hellip;</td><td>&hellip;</td><td>&hellip;</td><td>&hellip;</td><td>&hellip;</td><td>&hellip;</td><td>&hellip;</td><td>&hellip;</td><td>&hellip;</td><td>&hellip;</td><td>&hellip;</td><td>&hellip;</td><td>&hellip;</td><td>&hellip;</td></tr><tr><td>2703450</td><td>&quot;2020-10-05&quot;</td><td>202010</td><td>91</td><td>0</td><td>176561.36</td><td>3675.4001</td><td>0.0</td><td>7356.8003</td><td>null</td><td>16392.496</td><td>6750.2</td><td>30000.0</td><td>0.0</td><td>0.0</td><td>30000.0</td><td>0.0</td><td>null</td><td>&quot;P12_6_178&quot;</td><td>&quot;P142_50_170&quot;</td><td>20020.0</td><td>&quot;a55475b1&quot;</td><td>null</td><td>null</td><td>&quot;a55475b1&quot;</td><td>&quot;a55475b1&quot;</td><td>150000.0</td><td>&quot;P94_109_143&quot;</td><td>&quot;P94_109_143&quot;</td><td>36000.0</td><td>75521.91</td><td>null</td><td>105019.79</td><td>46718.2</td><td>49651.402</td><td>77533.76</td><td>14346.319</td><td>&quot;P123_39_170&quot;</td><td>0.0</td><td>0.0</td><td>0.0</td><td>0.0</td><td>428159.66</td><td>14346.319</td><td>&quot;2fc785b2&quot;</td><td>&quot;a55475b1&quot;</td><td>&quot;a55475b1&quot;</td><td>&quot;a55475b1&quot;</td><td>&quot;a55475b1&quot;</td><td>null</td><td>null</td><td>12155.0</td><td>null</td><td>40000.0</td><td>false</td><td>&quot;OWNED&quot;</td><td>null</td><td>null</td></tr><tr><td>2703451</td><td>&quot;2020-10-05&quot;</td><td>202010</td><td>91</td><td>0</td><td>301276.47</td><td>7088.6</td><td>6191.6</td><td>12553.2</td><td>null</td><td>105129.31</td><td>15780.4</td><td>100000.0</td><td>68098.4</td><td>68098.4</td><td>40739.54</td><td>0.0</td><td>null</td><td>&quot;a55475b1&quot;</td><td>&quot;a55475b1&quot;</td><td>0.0</td><td>&quot;a55475b1&quot;</td><td>null</td><td>null</td><td>&quot;a55475b1&quot;</td><td>&quot;a55475b1&quot;</td><td>null</td><td>&quot;a55475b1&quot;</td><td>&quot;a55475b1&quot;</td><td>null</td><td>117251.6</td><td>null</td><td>202775.55</td><td>40499.8</td><td>116813.4</td><td>250031.2</td><td>40499.805</td><td>&quot;P162_18_172&quot;</td><td>null</td><td>68098.4</td><td>68098.4</td><td>68098.4</td><td>701247.3</td><td>40499.805</td><td>&quot;2fc785b2&quot;</td><td>&quot;a55475b1&quot;</td><td>&quot;a55475b1&quot;</td><td>&quot;a55475b1&quot;</td><td>&quot;a55475b1&quot;</td><td>null</td><td>null</td><td>22904.6</td><td>null</td><td>36800.0</td><td>false</td><td>null</td><td>null</td><td>null</td></tr><tr><td>2703452</td><td>&quot;2020-10-05&quot;</td><td>202010</td><td>91</td><td>0</td><td>14232.4</td><td>7788.8003</td><td>0.0</td><td>2662.4001</td><td>null</td><td>null</td><td>1500.6</td><td>60000.0</td><td>0.0</td><td>0.0</td><td>60000.0</td><td>0.0</td><td>null</td><td>&quot;P159_130_59&quot;</td><td>&quot;P75_90_70&quot;</td><td>3998.0</td><td>&quot;P180_60_137&quot;</td><td>null</td><td>null</td><td>&quot;a55475b1&quot;</td><td>&quot;a55475b1&quot;</td><td>null</td><td>&quot;a55475b1&quot;</td><td>&quot;a55475b1&quot;</td><td>24000.0</td><td>6600.0</td><td>null</td><td>17143.4</td><td>3243.4001</td><td>4182.0</td><td>0.0</td><td>null</td><td>&quot;P133_44_167&quot;</td><td>0.0</td><td>0.0</td><td>0.0</td><td>0.0</td><td>24002.0</td><td>null</td><td>&quot;2fc785b2&quot;</td><td>&quot;a55475b1&quot;</td><td>&quot;a55475b1&quot;</td><td>&quot;a55475b1&quot;</td><td>&quot;a55475b1&quot;</td><td>null</td><td>null</td><td>null</td><td>null</td><td>30000.0</td><td>false</td><td>null</td><td>null</td><td>null</td></tr><tr><td>2703453</td><td>&quot;2020-10-05&quot;</td><td>202010</td><td>91</td><td>0</td><td>197371.58</td><td>1195.4</td><td>2827.2</td><td>8212.601</td><td>null</td><td>47943.062</td><td>9921.2</td><td>6000.0</td><td>46806.6</td><td>46806.6</td><td>6000.0</td><td>0.0</td><td>null</td><td>&quot;a55475b1&quot;</td><td>&quot;a55475b1&quot;</td><td>0.0</td><td>&quot;a55475b1&quot;</td><td>null</td><td>null</td><td>&quot;P159_130_59&quot;</td><td>&quot;P174_113_42&quot;</td><td>2198.0</td><td>&quot;a55475b1&quot;</td><td>&quot;a55475b1&quot;</td><td>null</td><td>163202.0</td><td>null</td><td>126780.0</td><td>88740.805</td><td>94265.2</td><td>81604.6</td><td>2827.2</td><td>&quot;P123_6_84&quot;</td><td>0.0</td><td>46806.6</td><td>46806.6</td><td>46806.6</td><td>440145.3</td><td>5654.4</td><td>&quot;2fc785b2&quot;</td><td>&quot;6b2ae0fa&quot;</td><td>&quot;a55475b1&quot;</td><td>&quot;3439d993&quot;</td><td>&quot;a55475b1&quot;</td><td>null</td><td>null</td><td>15792.4</td><td>null</td><td>30000.0</td><td>false</td><td>null</td><td>null</td><td>null</td></tr><tr><td>2703454</td><td>&quot;2020-10-05&quot;</td><td>202010</td><td>91</td><td>0</td><td>82949.6</td><td>4533.8003</td><td>2986.8</td><td>6405.4</td><td>15998.0</td><td>15651.796</td><td>6352.0</td><td>39414.0</td><td>5919.2</td><td>0.0</td><td>33800.492</td><td>0.0</td><td>null</td><td>&quot;a55475b1&quot;</td><td>&quot;a55475b1&quot;</td><td>15998.0</td><td>&quot;a55475b1&quot;</td><td>null</td><td>null</td><td>&quot;a55475b1&quot;</td><td>&quot;a55475b1&quot;</td><td>null</td><td>&quot;a55475b1&quot;</td><td>&quot;a55475b1&quot;</td><td>24000.0</td><td>16148.929</td><td>null</td><td>63980.0</td><td>9710.0</td><td>55411.8</td><td>60461.438</td><td>9710.0</td><td>&quot;P48_127_19&quot;</td><td>null</td><td>8919.2</td><td>8919.2</td><td>5919.2</td><td>92999.57</td><td>2986.8</td><td>&quot;2fc785b2&quot;</td><td>&quot;a55475b1&quot;</td><td>&quot;a55475b1&quot;</td><td>&quot;b6cabe76&quot;</td><td>&quot;a55475b1&quot;</td><td>null</td><td>null</td><td>21530.4</td><td>null</td><td>39400.0</td><td>false</td><td>null</td><td>null</td><td>null</td></tr></tbody></table></div>"
      ],
      "text/plain": [
       "shape: (1_526_659, 58)\n",
       "┌─────────┬────────────┬────────┬──────────┬───┬────────────┬────────────┬────────────┬────────────┐\n",
       "│ case_id ┆ date_decis ┆ MONTH  ┆ WEEK_NUM ┆ … ┆ mainoccupa ┆ person_hou ┆ pmts_pmtso ┆ pmts_dpdva │\n",
       "│ ---     ┆ ion        ┆ ---    ┆ ---      ┆   ┆ tioninc_38 ┆ setype     ┆ verdue_635 ┆ lue_108P_o │\n",
       "│ i64     ┆ ---        ┆ i64    ┆ i64      ┆   ┆ 4A_any_sel ┆ ---        ┆ A_max      ┆ ver31      │\n",
       "│         ┆ str        ┆        ┆          ┆   ┆ fe…        ┆ str        ┆ ---        ┆ ---        │\n",
       "│         ┆            ┆        ┆          ┆   ┆ ---        ┆            ┆ f64        ┆ bool       │\n",
       "│         ┆            ┆        ┆          ┆   ┆ bool       ┆            ┆            ┆            │\n",
       "╞═════════╪════════════╪════════╪══════════╪═══╪════════════╪════════════╪════════════╪════════════╡\n",
       "│ 0       ┆ 2019-01-03 ┆ 201901 ┆ 0        ┆ … ┆ false      ┆ null       ┆ null       ┆ null       │\n",
       "│ 1       ┆ 2019-01-03 ┆ 201901 ┆ 0        ┆ … ┆ false      ┆ null       ┆ null       ┆ null       │\n",
       "│ 2       ┆ 2019-01-04 ┆ 201901 ┆ 0        ┆ … ┆ false      ┆ null       ┆ null       ┆ null       │\n",
       "│ 3       ┆ 2019-01-03 ┆ 201901 ┆ 0        ┆ … ┆ false      ┆ null       ┆ null       ┆ null       │\n",
       "│ 4       ┆ 2019-01-04 ┆ 201901 ┆ 0        ┆ … ┆ false      ┆ null       ┆ null       ┆ null       │\n",
       "│ …       ┆ …          ┆ …      ┆ …        ┆ … ┆ …          ┆ …          ┆ …          ┆ …          │\n",
       "│ 2703450 ┆ 2020-10-05 ┆ 202010 ┆ 91       ┆ … ┆ false      ┆ OWNED      ┆ null       ┆ null       │\n",
       "│ 2703451 ┆ 2020-10-05 ┆ 202010 ┆ 91       ┆ … ┆ false      ┆ null       ┆ null       ┆ null       │\n",
       "│ 2703452 ┆ 2020-10-05 ┆ 202010 ┆ 91       ┆ … ┆ false      ┆ null       ┆ null       ┆ null       │\n",
       "│ 2703453 ┆ 2020-10-05 ┆ 202010 ┆ 91       ┆ … ┆ false      ┆ null       ┆ null       ┆ null       │\n",
       "│ 2703454 ┆ 2020-10-05 ┆ 202010 ┆ 91       ┆ … ┆ false      ┆ null       ┆ null       ┆ null       │\n",
       "└─────────┴────────────┴────────┴──────────┴───┴────────────┴────────────┴────────────┴────────────┘"
      ]
     },
     "execution_count": 13,
     "metadata": {},
     "output_type": "execute_result"
    }
   ],
   "source": [
    "data"
   ]
  },
  {
   "cell_type": "code",
   "execution_count": 14,
   "metadata": {},
   "outputs": [],
   "source": [
    "test_person_1_feats_1 = test_person_1.group_by(\"case_id\").agg(\n",
    "    pl.col(\"mainoccupationinc_384A\").max().alias(\"mainoccupationinc_384A_max\"),\n",
    "    (pl.col(\"incometype_1044T\") == \"SELFEMPLOYED\").max().alias(\"mainoccupationinc_384A_any_selfemployed\")\n",
    ")\n",
    "\n",
    "test_person_1_feats_2 = test_person_1.select([\"case_id\", \"num_group1\", \"housetype_905L\"]).filter(\n",
    "    pl.col(\"num_group1\") == 0\n",
    ").drop(\"num_group1\").rename({\"housetype_905L\": \"person_housetype\"})\n",
    "\n",
    "test_credit_bureau_b_2_feats = test_credit_bureau_b_2.group_by(\"case_id\").agg(\n",
    "    pl.col(\"pmts_pmtsoverdue_635A\").max().alias(\"pmts_pmtsoverdue_635A_max\"),\n",
    "    (pl.col(\"pmts_dpdvalue_108P\") > 31).max().alias(\"pmts_dpdvalue_108P_over31\")\n",
    ")\n",
    "\n",
    "data_submission = test_basetable.join(\n",
    "    test_static.select([\"case_id\"]+selected_static_cols), how=\"left\", on=\"case_id\"\n",
    ").join(\n",
    "    test_static_cb.select([\"case_id\"]+selected_static_cb_cols), how=\"left\", on=\"case_id\"\n",
    ").join(\n",
    "    test_person_1_feats_1, how=\"left\", on=\"case_id\"\n",
    ").join(\n",
    "    test_person_1_feats_2, how=\"left\", on=\"case_id\"\n",
    ").join(\n",
    "    test_credit_bureau_b_2_feats, how=\"left\", on=\"case_id\"\n",
    ")"
   ]
  },
  {
   "cell_type": "code",
   "execution_count": 15,
   "metadata": {},
   "outputs": [
    {
     "data": {
      "text/html": [
       "<div><style>\n",
       ".dataframe > thead > tr,\n",
       ".dataframe > tbody > tr {\n",
       "  text-align: right;\n",
       "  white-space: pre-wrap;\n",
       "}\n",
       "</style>\n",
       "<small>shape: (10, 57)</small><table border=\"1\" class=\"dataframe\"><thead><tr><th>case_id</th><th>date_decision</th><th>MONTH</th><th>WEEK_NUM</th><th>amtinstpaidbefduel24m_4187115A</th><th>annuity_780A</th><th>annuitynextmonth_57A</th><th>avginstallast24m_3658937A</th><th>avglnamtstart24m_4525187A</th><th>avgoutstandbalancel6m_4187114A</th><th>avgpmtlast12m_4525200A</th><th>credamount_770A</th><th>currdebt_22A</th><th>currdebtcredtyperange_828A</th><th>disbursedcredamount_1113A</th><th>downpmt_116A</th><th>inittransactionamount_650A</th><th>lastapprcommoditycat_1041M</th><th>lastapprcommoditytypec_5251766M</th><th>lastapprcredamount_781A</th><th>lastcancelreason_561M</th><th>lastotherinc_902A</th><th>lastotherlnsexpense_631A</th><th>lastrejectcommoditycat_161M</th><th>lastrejectcommodtypec_5251769M</th><th>lastrejectcredamount_222A</th><th>lastrejectreason_759M</th><th>lastrejectreasonclient_4145040M</th><th>maininc_215A</th><th>maxannuity_159A</th><th>maxannuity_4075009A</th><th>maxdebt4_972A</th><th>maxinstallast24m_3658928A</th><th>maxlnamtstart6m_4525199A</th><th>maxoutstandbalancel12m_4187113A</th><th>maxpmtlast3m_4525190A</th><th>previouscontdistrict_112M</th><th>price_1097A</th><th>sumoutstandtotal_3546847A</th><th>sumoutstandtotalest_4493215A</th><th>totaldebt_9A</th><th>totalsettled_863A</th><th>totinstallast1m_4525188A</th><th>description_5085714M</th><th>education_1103M</th><th>education_88M</th><th>maritalst_385M</th><th>maritalst_893M</th><th>pmtaverage_3A</th><th>pmtaverage_4527227A</th><th>pmtaverage_4955615A</th><th>pmtssum_45A</th><th>mainoccupationinc_384A_max</th><th>mainoccupationinc_384A_any_selfemployed</th><th>person_housetype</th><th>pmts_pmtsoverdue_635A_max</th><th>pmts_dpdvalue_108P_over31</th></tr><tr><td>i64</td><td>str</td><td>i64</td><td>i64</td><td>f64</td><td>f64</td><td>f64</td><td>f64</td><td>f64</td><td>f64</td><td>f64</td><td>f64</td><td>f64</td><td>f64</td><td>f64</td><td>f64</td><td>f64</td><td>str</td><td>str</td><td>f64</td><td>str</td><td>f64</td><td>f64</td><td>str</td><td>str</td><td>f64</td><td>str</td><td>str</td><td>f64</td><td>f64</td><td>f64</td><td>f64</td><td>f64</td><td>f64</td><td>f64</td><td>f64</td><td>str</td><td>f64</td><td>f64</td><td>f64</td><td>f64</td><td>f64</td><td>f64</td><td>str</td><td>str</td><td>str</td><td>str</td><td>str</td><td>f64</td><td>f64</td><td>f64</td><td>f64</td><td>f64</td><td>bool</td><td>str</td><td>f64</td><td>bool</td></tr></thead><tbody><tr><td>57543</td><td>&quot;2021-05-14&quot;</td><td>202201</td><td>100</td><td>191767.36</td><td>3674.6</td><td>1218.2001</td><td>16049.4</td><td>17054.4</td><td>14554.4</td><td>24482.0</td><td>20000.0</td><td>12154.4</td><td>0.0</td><td>20000.0</td><td>0.0</td><td>null</td><td>&quot;a55475b1&quot;</td><td>&quot;a55475b1&quot;</td><td>14000.0</td><td>&quot;a55475b1&quot;</td><td>null</td><td>null</td><td>&quot;P109_133_183&quot;</td><td>&quot;P49_111_165&quot;</td><td>24000.0</td><td>&quot;a55475b1&quot;</td><td>&quot;a55475b1&quot;</td><td>34000.0</td><td>280983.56</td><td>null</td><td>231440.03</td><td>131700.8</td><td>16672.6</td><td>157731.78</td><td>16641.4</td><td>&quot;a55475b1&quot;</td><td>0.0</td><td>12154.4</td><td>12154.4</td><td>12154.4</td><td>456031.1</td><td>17859.6</td><td>&quot;2fc785b2&quot;</td><td>&quot;6b2ae0fa&quot;</td><td>&quot;a55475b1&quot;</td><td>&quot;38c061ee&quot;</td><td>&quot;a55475b1&quot;</td><td>null</td><td>null</td><td>null</td><td>null</td><td>34000.0</td><td>false</td><td>null</td><td>null</td><td>null</td></tr><tr><td>57549</td><td>&quot;2022-01-17&quot;</td><td>202201</td><td>100</td><td>129704.4</td><td>5742.6</td><td>3546.6</td><td>32426.201</td><td>118964.805</td><td>13681.714</td><td>32426.201</td><td>75000.0</td><td>10638.2</td><td>10638.2</td><td>75000.0</td><td>0.0</td><td>null</td><td>&quot;a55475b1&quot;</td><td>&quot;a55475b1&quot;</td><td>94000.0</td><td>&quot;a55475b1&quot;</td><td>null</td><td>null</td><td>&quot;a55475b1&quot;</td><td>&quot;a55475b1&quot;</td><td>160000.0</td><td>&quot;a55475b1&quot;</td><td>&quot;P30_86_84&quot;</td><td>44000.0</td><td>337659.8</td><td>null</td><td>34066.0</td><td>122511.4</td><td>31820.6</td><td>21278.0</td><td>122511.4</td><td>&quot;a55475b1&quot;</td><td>null</td><td>10638.2</td><td>10638.2</td><td>10638.2</td><td>373720.84</td><td>126058.0</td><td>&quot;2fc785b2&quot;</td><td>&quot;39a0853f&quot;</td><td>&quot;a55475b1&quot;</td><td>&quot;a7fcb6e5&quot;</td><td>&quot;a55475b1&quot;</td><td>null</td><td>null</td><td>26815.6</td><td>null</td><td>49800.0</td><td>false</td><td>null</td><td>null</td><td>null</td></tr><tr><td>57551</td><td>&quot;2020-11-27&quot;</td><td>202201</td><td>100</td><td>71036.4</td><td>2844.6</td><td>0.0</td><td>8357.2</td><td>null</td><td>0.0</td><td>9551.0</td><td>27095.201</td><td>0.0</td><td>0.0</td><td>27095.201</td><td>0.0</td><td>null</td><td>&quot;a55475b1&quot;</td><td>&quot;a55475b1&quot;</td><td>200000.0</td><td>&quot;P85_114_140&quot;</td><td>null</td><td>null</td><td>&quot;a55475b1&quot;</td><td>&quot;a55475b1&quot;</td><td>null</td><td>&quot;a55475b1&quot;</td><td>&quot;a55475b1&quot;</td><td>70000.0</td><td>83400.0</td><td>null</td><td>54000.0</td><td>41783.402</td><td>54000.0</td><td>62619.0</td><td>null</td><td>&quot;P11_36_178&quot;</td><td>27095.201</td><td>0.0</td><td>0.0</td><td>0.0</td><td>75219.0</td><td>null</td><td>&quot;2fc785b2&quot;</td><td>&quot;6b2ae0fa&quot;</td><td>&quot;a55475b1&quot;</td><td>&quot;3439d993&quot;</td><td>&quot;a55475b1&quot;</td><td>null</td><td>null</td><td>null</td><td>null</td><td>59600.0</td><td>false</td><td>null</td><td>null</td><td>null</td></tr><tr><td>57552</td><td>&quot;2020-11-27&quot;</td><td>202201</td><td>100</td><td>183992.0</td><td>6298.8003</td><td>12155.4</td><td>7440.4</td><td>null</td><td>199322.4</td><td>9148.4</td><td>100000.0</td><td>191269.61</td><td>191269.61</td><td>100000.0</td><td>0.0</td><td>null</td><td>&quot;a55475b1&quot;</td><td>&quot;a55475b1&quot;</td><td>0.0</td><td>&quot;P94_109_143&quot;</td><td>null</td><td>null</td><td>&quot;a55475b1&quot;</td><td>&quot;a55475b1&quot;</td><td>150000.0</td><td>&quot;a55475b1&quot;</td><td>&quot;P94_109_143&quot;</td><td>null</td><td>110500.0</td><td>null</td><td>188126.14</td><td>12155.4</td><td>104473.6</td><td>288642.6</td><td>12155.4</td><td>&quot;P21_87_50&quot;</td><td>null</td><td>191269.61</td><td>191269.61</td><td>191269.61</td><td>284213.0</td><td>18889.0</td><td>&quot;2fc785b2&quot;</td><td>&quot;a55475b1&quot;</td><td>&quot;a55475b1&quot;</td><td>&quot;a55475b1&quot;</td><td>&quot;a55475b1&quot;</td><td>null</td><td>null</td><td>23402.8</td><td>null</td><td>112000.0</td><td>false</td><td>&quot;OWNED&quot;</td><td>null</td><td>null</td></tr><tr><td>57569</td><td>&quot;2021-12-20&quot;</td><td>202201</td><td>100</td><td>0.0</td><td>4682.6</td><td>0.0</td><td>null</td><td>null</td><td>null</td><td>10796.4</td><td>60000.0</td><td>0.0</td><td>0.0</td><td>60000.0</td><td>0.0</td><td>null</td><td>&quot;a55475b1&quot;</td><td>&quot;a55475b1&quot;</td><td>20000.0</td><td>&quot;P94_109_143&quot;</td><td>null</td><td>null</td><td>&quot;a55475b1&quot;</td><td>&quot;a55475b1&quot;</td><td>40000.0</td><td>&quot;a55475b1&quot;</td><td>&quot;P94_109_143&quot;</td><td>6000.0</td><td>37704.0</td><td>null</td><td>64555.668</td><td>null</td><td>null</td><td>0.0</td><td>null</td><td>&quot;a55475b1&quot;</td><td>null</td><td>0.0</td><td>0.0</td><td>0.0</td><td>95348.42</td><td>null</td><td>&quot;2fc785b2&quot;</td><td>&quot;717ddd49&quot;</td><td>&quot;a55475b1&quot;</td><td>&quot;3439d993&quot;</td><td>&quot;a55475b1&quot;</td><td>null</td><td>null</td><td>17333.6</td><td>null</td><td>58000.0</td><td>false</td><td>&quot;OWNED&quot;</td><td>null</td><td>null</td></tr><tr><td>57630</td><td>&quot;2021-03-16&quot;</td><td>202201</td><td>100</td><td>0.0</td><td>8905.0</td><td>0.0</td><td>null</td><td>null</td><td>null</td><td>null</td><td>96174.0</td><td>0.0</td><td>0.0</td><td>96174.0</td><td>0.0</td><td>null</td><td>&quot;P148_110_5&quot;</td><td>&quot;P161_88_182&quot;</td><td>8876.0</td><td>&quot;P198_89_166&quot;</td><td>null</td><td>null</td><td>&quot;a55475b1&quot;</td><td>&quot;a55475b1&quot;</td><td>null</td><td>&quot;a55475b1&quot;</td><td>&quot;a55475b1&quot;</td><td>12000.0</td><td>1382.8</td><td>null</td><td>0.0</td><td>null</td><td>null</td><td>null</td><td>null</td><td>&quot;a55475b1&quot;</td><td>96174.0</td><td>0.0</td><td>0.0</td><td>0.0</td><td>9677.601</td><td>null</td><td>&quot;2fc785b2&quot;</td><td>&quot;6b2ae0fa&quot;</td><td>&quot;a55475b1&quot;</td><td>&quot;3439d993&quot;</td><td>&quot;a55475b1&quot;</td><td>null</td><td>null</td><td>null</td><td>null</td><td>60000.0</td><td>false</td><td>&quot;OWNED&quot;</td><td>null</td><td>null</td></tr><tr><td>57631</td><td>&quot;2022-06-04&quot;</td><td>202201</td><td>100</td><td>null</td><td>2540.6</td><td>0.0</td><td>null</td><td>null</td><td>null</td><td>null</td><td>24920.0</td><td>0.0</td><td>0.0</td><td>24920.0</td><td>0.0</td><td>null</td><td>&quot;a55475b1&quot;</td><td>&quot;a55475b1&quot;</td><td>null</td><td>&quot;P94_109_143&quot;</td><td>null</td><td>null</td><td>&quot;P100_96_175&quot;</td><td>&quot;P165_57_169&quot;</td><td>46279.8</td><td>&quot;P45_84_106&quot;</td><td>&quot;P94_109_143&quot;</td><td>null</td><td>0.0</td><td>null</td><td>0.0</td><td>null</td><td>null</td><td>null</td><td>null</td><td>&quot;a55475b1&quot;</td><td>24920.0</td><td>null</td><td>null</td><td>0.0</td><td>0.0</td><td>null</td><td>&quot;2fc785b2&quot;</td><td>&quot;a55475b1&quot;</td><td>&quot;a55475b1&quot;</td><td>&quot;a55475b1&quot;</td><td>&quot;a55475b1&quot;</td><td>null</td><td>null</td><td>null</td><td>null</td><td>null</td><td>null</td><td>null</td><td>null</td><td>null</td></tr><tr><td>57632</td><td>&quot;2022-02-05&quot;</td><td>202201</td><td>100</td><td>63647.402</td><td>4732.0</td><td>0.0</td><td>3536.0</td><td>null</td><td>10581.714</td><td>3536.0</td><td>25998.0</td><td>0.0</td><td>0.0</td><td>25998.0</td><td>0.0</td><td>null</td><td>&quot;P53_45_92&quot;</td><td>&quot;P200_75_140&quot;</td><td>50116.0</td><td>&quot;a55475b1&quot;</td><td>null</td><td>null</td><td>&quot;a55475b1&quot;</td><td>&quot;a55475b1&quot;</td><td>null</td><td>&quot;a55475b1&quot;</td><td>&quot;a55475b1&quot;</td><td>56000.0</td><td>7000.0</td><td>null</td><td>63647.402</td><td>3536.0</td><td>63647.402</td><td>42412.0</td><td>3536.0</td><td>&quot;P159_143_123&quot;</td><td>25998.0</td><td>0.0</td><td>0.0</td><td>0.0</td><td>63652.0</td><td>7071.4</td><td>&quot;2fc785b2&quot;</td><td>&quot;a55475b1&quot;</td><td>&quot;a55475b1&quot;</td><td>&quot;a55475b1&quot;</td><td>&quot;a55475b1&quot;</td><td>null</td><td>null</td><td>15841.2</td><td>null</td><td>null</td><td>null</td><td>null</td><td>null</td><td>null</td></tr><tr><td>57633</td><td>&quot;2022-01-25&quot;</td><td>202201</td><td>100</td><td>null</td><td>8273.0</td><td>0.0</td><td>null</td><td>null</td><td>null</td><td>null</td><td>200000.0</td><td>0.0</td><td>0.0</td><td>200000.0</td><td>0.0</td><td>null</td><td>&quot;a55475b1&quot;</td><td>&quot;a55475b1&quot;</td><td>null</td><td>&quot;P85_114_140&quot;</td><td>null</td><td>null</td><td>&quot;P159_130_59&quot;</td><td>&quot;P75_90_70&quot;</td><td>64996.0</td><td>&quot;P45_84_106&quot;</td><td>&quot;P94_109_143&quot;</td><td>null</td><td>0.0</td><td>null</td><td>0.0</td><td>null</td><td>null</td><td>null</td><td>null</td><td>&quot;a55475b1&quot;</td><td>0.0</td><td>null</td><td>null</td><td>0.0</td><td>0.0</td><td>null</td><td>&quot;2fc785b2&quot;</td><td>&quot;a55475b1&quot;</td><td>&quot;a55475b1&quot;</td><td>&quot;3439d993&quot;</td><td>&quot;a55475b1&quot;</td><td>null</td><td>null</td><td>null</td><td>null</td><td>null</td><td>null</td><td>null</td><td>null</td><td>null</td></tr><tr><td>57634</td><td>&quot;2021-01-27&quot;</td><td>202201</td><td>100</td><td>39948.8</td><td>1165.8</td><td>0.0</td><td>3994.8</td><td>null</td><td>1675.4</td><td>3358.4001</td><td>12108.2</td><td>0.0</td><td>0.0</td><td>12108.2</td><td>0.0</td><td>null</td><td>&quot;P159_130_59&quot;</td><td>&quot;P174_113_42&quot;</td><td>16494.201</td><td>&quot;a55475b1&quot;</td><td>null</td><td>null</td><td>&quot;a55475b1&quot;</td><td>&quot;a55475b1&quot;</td><td>null</td><td>&quot;a55475b1&quot;</td><td>&quot;a55475b1&quot;</td><td>50000.0</td><td>5000.0</td><td>null</td><td>19798.0</td><td>4949.6</td><td>20887.201</td><td>20150.8</td><td>null</td><td>&quot;a55475b1&quot;</td><td>13998.0</td><td>0.0</td><td>0.0</td><td>0.0</td><td>39950.8</td><td>null</td><td>&quot;2fc785b2&quot;</td><td>&quot;a55475b1&quot;</td><td>&quot;a55475b1&quot;</td><td>&quot;a55475b1&quot;</td><td>&quot;a55475b1&quot;</td><td>null</td><td>null</td><td>null</td><td>null</td><td>null</td><td>null</td><td>null</td><td>null</td><td>null</td></tr></tbody></table></div>"
      ],
      "text/plain": [
       "shape: (10, 57)\n",
       "┌─────────┬────────────┬────────┬──────────┬───┬────────────┬────────────┬────────────┬────────────┐\n",
       "│ case_id ┆ date_decis ┆ MONTH  ┆ WEEK_NUM ┆ … ┆ mainoccupa ┆ person_hou ┆ pmts_pmtso ┆ pmts_dpdva │\n",
       "│ ---     ┆ ion        ┆ ---    ┆ ---      ┆   ┆ tioninc_38 ┆ setype     ┆ verdue_635 ┆ lue_108P_o │\n",
       "│ i64     ┆ ---        ┆ i64    ┆ i64      ┆   ┆ 4A_any_sel ┆ ---        ┆ A_max      ┆ ver31      │\n",
       "│         ┆ str        ┆        ┆          ┆   ┆ fe…        ┆ str        ┆ ---        ┆ ---        │\n",
       "│         ┆            ┆        ┆          ┆   ┆ ---        ┆            ┆ f64        ┆ bool       │\n",
       "│         ┆            ┆        ┆          ┆   ┆ bool       ┆            ┆            ┆            │\n",
       "╞═════════╪════════════╪════════╪══════════╪═══╪════════════╪════════════╪════════════╪════════════╡\n",
       "│ 57543   ┆ 2021-05-14 ┆ 202201 ┆ 100      ┆ … ┆ false      ┆ null       ┆ null       ┆ null       │\n",
       "│ 57549   ┆ 2022-01-17 ┆ 202201 ┆ 100      ┆ … ┆ false      ┆ null       ┆ null       ┆ null       │\n",
       "│ 57551   ┆ 2020-11-27 ┆ 202201 ┆ 100      ┆ … ┆ false      ┆ null       ┆ null       ┆ null       │\n",
       "│ 57552   ┆ 2020-11-27 ┆ 202201 ┆ 100      ┆ … ┆ false      ┆ OWNED      ┆ null       ┆ null       │\n",
       "│ 57569   ┆ 2021-12-20 ┆ 202201 ┆ 100      ┆ … ┆ false      ┆ OWNED      ┆ null       ┆ null       │\n",
       "│ 57630   ┆ 2021-03-16 ┆ 202201 ┆ 100      ┆ … ┆ false      ┆ OWNED      ┆ null       ┆ null       │\n",
       "│ 57631   ┆ 2022-06-04 ┆ 202201 ┆ 100      ┆ … ┆ null       ┆ null       ┆ null       ┆ null       │\n",
       "│ 57632   ┆ 2022-02-05 ┆ 202201 ┆ 100      ┆ … ┆ null       ┆ null       ┆ null       ┆ null       │\n",
       "│ 57633   ┆ 2022-01-25 ┆ 202201 ┆ 100      ┆ … ┆ null       ┆ null       ┆ null       ┆ null       │\n",
       "│ 57634   ┆ 2021-01-27 ┆ 202201 ┆ 100      ┆ … ┆ null       ┆ null       ┆ null       ┆ null       │\n",
       "└─────────┴────────────┴────────┴──────────┴───┴────────────┴────────────┴────────────┴────────────┘"
      ]
     },
     "execution_count": 15,
     "metadata": {},
     "output_type": "execute_result"
    }
   ],
   "source": [
    "data_submission\n"
   ]
  },
  {
   "cell_type": "code",
   "execution_count": 16,
   "metadata": {},
   "outputs": [
    {
     "data": {
      "text/html": [
       "<div><style>\n",
       ".dataframe > thead > tr,\n",
       ".dataframe > tbody > tr {\n",
       "  text-align: right;\n",
       "  white-space: pre-wrap;\n",
       "}\n",
       "</style>\n",
       "<small>shape: (1_526_659, 5)</small><table border=\"1\" class=\"dataframe\"><thead><tr><th>case_id</th><th>date_decision</th><th>MONTH</th><th>WEEK_NUM</th><th>target</th></tr><tr><td>i64</td><td>str</td><td>i64</td><td>i64</td><td>i64</td></tr></thead><tbody><tr><td>0</td><td>&quot;2019-01-03&quot;</td><td>201901</td><td>0</td><td>0</td></tr><tr><td>1</td><td>&quot;2019-01-03&quot;</td><td>201901</td><td>0</td><td>0</td></tr><tr><td>2</td><td>&quot;2019-01-04&quot;</td><td>201901</td><td>0</td><td>0</td></tr><tr><td>3</td><td>&quot;2019-01-03&quot;</td><td>201901</td><td>0</td><td>0</td></tr><tr><td>4</td><td>&quot;2019-01-04&quot;</td><td>201901</td><td>0</td><td>1</td></tr><tr><td>&hellip;</td><td>&hellip;</td><td>&hellip;</td><td>&hellip;</td><td>&hellip;</td></tr><tr><td>2703450</td><td>&quot;2020-10-05&quot;</td><td>202010</td><td>91</td><td>0</td></tr><tr><td>2703451</td><td>&quot;2020-10-05&quot;</td><td>202010</td><td>91</td><td>0</td></tr><tr><td>2703452</td><td>&quot;2020-10-05&quot;</td><td>202010</td><td>91</td><td>0</td></tr><tr><td>2703453</td><td>&quot;2020-10-05&quot;</td><td>202010</td><td>91</td><td>0</td></tr><tr><td>2703454</td><td>&quot;2020-10-05&quot;</td><td>202010</td><td>91</td><td>0</td></tr></tbody></table></div>"
      ],
      "text/plain": [
       "shape: (1_526_659, 5)\n",
       "┌─────────┬───────────────┬────────┬──────────┬────────┐\n",
       "│ case_id ┆ date_decision ┆ MONTH  ┆ WEEK_NUM ┆ target │\n",
       "│ ---     ┆ ---           ┆ ---    ┆ ---      ┆ ---    │\n",
       "│ i64     ┆ str           ┆ i64    ┆ i64      ┆ i64    │\n",
       "╞═════════╪═══════════════╪════════╪══════════╪════════╡\n",
       "│ 0       ┆ 2019-01-03    ┆ 201901 ┆ 0        ┆ 0      │\n",
       "│ 1       ┆ 2019-01-03    ┆ 201901 ┆ 0        ┆ 0      │\n",
       "│ 2       ┆ 2019-01-04    ┆ 201901 ┆ 0        ┆ 0      │\n",
       "│ 3       ┆ 2019-01-03    ┆ 201901 ┆ 0        ┆ 0      │\n",
       "│ 4       ┆ 2019-01-04    ┆ 201901 ┆ 0        ┆ 1      │\n",
       "│ …       ┆ …             ┆ …      ┆ …        ┆ …      │\n",
       "│ 2703450 ┆ 2020-10-05    ┆ 202010 ┆ 91       ┆ 0      │\n",
       "│ 2703451 ┆ 2020-10-05    ┆ 202010 ┆ 91       ┆ 0      │\n",
       "│ 2703452 ┆ 2020-10-05    ┆ 202010 ┆ 91       ┆ 0      │\n",
       "│ 2703453 ┆ 2020-10-05    ┆ 202010 ┆ 91       ┆ 0      │\n",
       "│ 2703454 ┆ 2020-10-05    ┆ 202010 ┆ 91       ┆ 0      │\n",
       "└─────────┴───────────────┴────────┴──────────┴────────┘"
      ]
     },
     "execution_count": 16,
     "metadata": {},
     "output_type": "execute_result"
    }
   ],
   "source": [
    "train_base\n",
    "\n"
   ]
  },
  {
   "cell_type": "code",
   "execution_count": 17,
   "metadata": {},
   "outputs": [
    {
     "name": "stdout",
     "output_type": "stream",
     "text": [
      "False\n"
     ]
    }
   ],
   "source": [
    "duplicates = train_base.group_by(\"case_id\").agg(\n",
    "    pl.count(\"case_id\").alias(\"count\")\n",
    ")\n",
    "has_duplicates = duplicates.filter(pl.col(\"count\") > 1).shape[0] > 0\n",
    "print(has_duplicates)"
   ]
  },
  {
   "cell_type": "code",
   "execution_count": 18,
   "metadata": {},
   "outputs": [
    {
     "name": "stdout",
     "output_type": "stream",
     "text": [
      "['amtinstpaidbefduel24m_4187115A', 'annuity_780A', 'annuitynextmonth_57A', 'avginstallast24m_3658937A', 'avglnamtstart24m_4525187A', 'avgoutstandbalancel6m_4187114A', 'avgpmtlast12m_4525200A', 'credamount_770A', 'currdebt_22A', 'currdebtcredtyperange_828A', 'disbursedcredamount_1113A', 'downpmt_116A', 'inittransactionamount_650A', 'lastapprcommoditycat_1041M', 'lastapprcommoditytypec_5251766M', 'lastapprcredamount_781A', 'lastcancelreason_561M', 'lastotherinc_902A', 'lastotherlnsexpense_631A', 'lastrejectcommoditycat_161M', 'lastrejectcommodtypec_5251769M', 'lastrejectcredamount_222A', 'lastrejectreason_759M', 'lastrejectreasonclient_4145040M', 'maininc_215A', 'maxannuity_159A', 'maxannuity_4075009A', 'maxdebt4_972A', 'maxinstallast24m_3658928A', 'maxlnamtstart6m_4525199A', 'maxoutstandbalancel12m_4187113A', 'maxpmtlast3m_4525190A', 'previouscontdistrict_112M', 'price_1097A', 'sumoutstandtotal_3546847A', 'sumoutstandtotalest_4493215A', 'totaldebt_9A', 'totalsettled_863A', 'totinstallast1m_4525188A', 'description_5085714M', 'education_1103M', 'education_88M', 'maritalst_385M', 'maritalst_893M', 'pmtaverage_3A', 'pmtaverage_4527227A', 'pmtaverage_4955615A', 'pmtssum_45A']\n"
     ]
    }
   ],
   "source": [
    "case_ids = data[\"case_id\"].unique().shuffle(seed=1)\n",
    "case_ids_train, case_ids_test = train_test_split(case_ids, train_size=0.6, random_state=1)\n",
    "case_ids_valid, case_ids_test = train_test_split(case_ids_test, train_size=0.5, random_state=1)\n",
    "\n",
    "cols_pred = []\n",
    "for col in data.columns:\n",
    "    if col[-1].isupper() and col[:-1].islower():\n",
    "        cols_pred.append(col)\n",
    "\n",
    "print(cols_pred)\n",
    "\n",
    "def from_polars_to_pandas(case_ids: pl.DataFrame) -> pl.DataFrame:\n",
    "    return (\n",
    "        data.filter(pl.col(\"case_id\").is_in(case_ids))[[\"case_id\", \"WEEK_NUM\", \"target\"]].to_pandas(),\n",
    "        data.filter(pl.col(\"case_id\").is_in(case_ids))[cols_pred].to_pandas(),\n",
    "        data.filter(pl.col(\"case_id\").is_in(case_ids))[\"target\"].to_pandas()\n",
    "    )\n",
    "\n",
    "base_train, X_train, y_train = from_polars_to_pandas(case_ids_train)\n",
    "base_valid, X_valid, y_valid = from_polars_to_pandas(case_ids_valid)\n",
    "base_test, X_test, y_test = from_polars_to_pandas(case_ids_test)\n",
    "\n",
    "for df in [X_train, X_valid, X_test]:\n",
    "    df = convert_strings(df)"
   ]
  },
  {
   "cell_type": "code",
   "execution_count": 19,
   "metadata": {},
   "outputs": [
    {
     "name": "stdout",
     "output_type": "stream",
     "text": [
      "Train: (915995, 48)\n",
      "Valid: (305332, 48)\n",
      "Test: (305332, 48)\n"
     ]
    }
   ],
   "source": [
    "print(f\"Train: {X_train.shape}\")\n",
    "print(f\"Valid: {X_valid.shape}\")\n",
    "print(f\"Test: {X_test.shape}\")"
   ]
  },
  {
   "cell_type": "code",
   "execution_count": 20,
   "metadata": {},
   "outputs": [
    {
     "name": "stderr",
     "output_type": "stream",
     "text": [
      "/home/ihiratch/miniconda3/envs/home-credit/lib/python3.10/site-packages/lightgbm/engine.py:172: UserWarning: Found `n_estimators` in params. Will use it instead of argument\n",
      "  _log_warning(f\"Found `{alias}` in params. Will use it instead of argument\")\n"
     ]
    },
    {
     "name": "stdout",
     "output_type": "stream",
     "text": [
      "Training until validation scores don't improve for 10 rounds\n",
      "[50]\tvalid_0's auc: 0.705963\n",
      "[100]\tvalid_0's auc: 0.724362\n",
      "[150]\tvalid_0's auc: 0.731423\n",
      "[200]\tvalid_0's auc: 0.735874\n",
      "[250]\tvalid_0's auc: 0.739009\n",
      "[300]\tvalid_0's auc: 0.740965\n",
      "[350]\tvalid_0's auc: 0.742924\n",
      "[400]\tvalid_0's auc: 0.744582\n",
      "[450]\tvalid_0's auc: 0.745977\n",
      "[500]\tvalid_0's auc: 0.747033\n",
      "[550]\tvalid_0's auc: 0.747877\n",
      "[600]\tvalid_0's auc: 0.749039\n",
      "[650]\tvalid_0's auc: 0.750087\n",
      "[700]\tvalid_0's auc: 0.750863\n",
      "Early stopping, best iteration is:\n",
      "[739]\tvalid_0's auc: 0.751216\n"
     ]
    }
   ],
   "source": [
    "lgb_train = lgb.Dataset(X_train, label=y_train)\n",
    "lgb_valid = lgb.Dataset(X_valid, label=y_valid, reference=lgb_train)\n",
    "\n",
    "params = {\n",
    "    \"boosting_type\": \"gbdt\",\n",
    "    \"objective\": \"binary\",\n",
    "    \"metric\": \"auc\",\n",
    "    \"max_depth\": 3,\n",
    "    \"num_leaves\": 31,\n",
    "    \"learning_rate\": 0.05,\n",
    "    \"feature_fraction\": 0.9,\n",
    "    \"bagging_fraction\": 0.8,\n",
    "    \"bagging_freq\": 5,\n",
    "    \"n_estimators\": 1000,\n",
    "    \"verbose\": -1,\n",
    "}\n",
    "\n",
    "gbm = lgb.train(\n",
    "    params,\n",
    "    lgb_train,\n",
    "    valid_sets=lgb_valid,\n",
    "    callbacks=[lgb.log_evaluation(50), lgb.early_stopping(10)]\n",
    ")"
   ]
  },
  {
   "cell_type": "code",
   "execution_count": 24,
   "metadata": {},
   "outputs": [
    {
     "data": {
      "text/html": [
       "<div>\n",
       "<style scoped>\n",
       "    .dataframe tbody tr th:only-of-type {\n",
       "        vertical-align: middle;\n",
       "    }\n",
       "\n",
       "    .dataframe tbody tr th {\n",
       "        vertical-align: top;\n",
       "    }\n",
       "\n",
       "    .dataframe thead th {\n",
       "        text-align: right;\n",
       "    }\n",
       "</style>\n",
       "<table border=\"1\" class=\"dataframe\">\n",
       "  <thead>\n",
       "    <tr style=\"text-align: right;\">\n",
       "      <th></th>\n",
       "      <th>case_id</th>\n",
       "      <th>WEEK_NUM</th>\n",
       "      <th>target</th>\n",
       "      <th>score</th>\n",
       "    </tr>\n",
       "  </thead>\n",
       "  <tbody>\n",
       "    <tr>\n",
       "      <th>0</th>\n",
       "      <td>0</td>\n",
       "      <td>0</td>\n",
       "      <td>0</td>\n",
       "      <td>0.032251</td>\n",
       "    </tr>\n",
       "    <tr>\n",
       "      <th>1</th>\n",
       "      <td>2</td>\n",
       "      <td>0</td>\n",
       "      <td>0</td>\n",
       "      <td>0.041961</td>\n",
       "    </tr>\n",
       "    <tr>\n",
       "      <th>2</th>\n",
       "      <td>5</td>\n",
       "      <td>0</td>\n",
       "      <td>0</td>\n",
       "      <td>0.033620</td>\n",
       "    </tr>\n",
       "    <tr>\n",
       "      <th>3</th>\n",
       "      <td>6</td>\n",
       "      <td>0</td>\n",
       "      <td>0</td>\n",
       "      <td>0.063119</td>\n",
       "    </tr>\n",
       "    <tr>\n",
       "      <th>4</th>\n",
       "      <td>7</td>\n",
       "      <td>0</td>\n",
       "      <td>0</td>\n",
       "      <td>0.029488</td>\n",
       "    </tr>\n",
       "    <tr>\n",
       "      <th>...</th>\n",
       "      <td>...</td>\n",
       "      <td>...</td>\n",
       "      <td>...</td>\n",
       "      <td>...</td>\n",
       "    </tr>\n",
       "    <tr>\n",
       "      <th>915990</th>\n",
       "      <td>2703449</td>\n",
       "      <td>91</td>\n",
       "      <td>0</td>\n",
       "      <td>0.076309</td>\n",
       "    </tr>\n",
       "    <tr>\n",
       "      <th>915991</th>\n",
       "      <td>2703450</td>\n",
       "      <td>91</td>\n",
       "      <td>0</td>\n",
       "      <td>0.006416</td>\n",
       "    </tr>\n",
       "    <tr>\n",
       "      <th>915992</th>\n",
       "      <td>2703452</td>\n",
       "      <td>91</td>\n",
       "      <td>0</td>\n",
       "      <td>0.022882</td>\n",
       "    </tr>\n",
       "    <tr>\n",
       "      <th>915993</th>\n",
       "      <td>2703453</td>\n",
       "      <td>91</td>\n",
       "      <td>0</td>\n",
       "      <td>0.003766</td>\n",
       "    </tr>\n",
       "    <tr>\n",
       "      <th>915994</th>\n",
       "      <td>2703454</td>\n",
       "      <td>91</td>\n",
       "      <td>0</td>\n",
       "      <td>0.004232</td>\n",
       "    </tr>\n",
       "  </tbody>\n",
       "</table>\n",
       "<p>915995 rows × 4 columns</p>\n",
       "</div>"
      ],
      "text/plain": [
       "        case_id  WEEK_NUM  target     score\n",
       "0             0         0       0  0.032251\n",
       "1             2         0       0  0.041961\n",
       "2             5         0       0  0.033620\n",
       "3             6         0       0  0.063119\n",
       "4             7         0       0  0.029488\n",
       "...         ...       ...     ...       ...\n",
       "915990  2703449        91       0  0.076309\n",
       "915991  2703450        91       0  0.006416\n",
       "915992  2703452        91       0  0.022882\n",
       "915993  2703453        91       0  0.003766\n",
       "915994  2703454        91       0  0.004232\n",
       "\n",
       "[915995 rows x 4 columns]"
      ]
     },
     "execution_count": 24,
     "metadata": {},
     "output_type": "execute_result"
    }
   ],
   "source": [
    "base_train"
   ]
  },
  {
   "cell_type": "code",
   "execution_count": 21,
   "metadata": {},
   "outputs": [
    {
     "name": "stdout",
     "output_type": "stream",
     "text": [
      "The AUC score on the train set is: 0.764122917660593\n",
      "The AUC score on the valid set is: 0.7512157223309048\n",
      "The AUC score on the test set is: 0.7483072129459662\n"
     ]
    }
   ],
   "source": [
    "for base, X in [(base_train, X_train), (base_valid, X_valid), (base_test, X_test)]:\n",
    "    y_pred = gbm.predict(X, num_iteration=gbm.best_iteration)\n",
    "    base[\"score\"] = y_pred\n",
    "\n",
    "print(f'The AUC score on the train set is: {roc_auc_score(base_train[\"target\"], base_train[\"score\"])}') \n",
    "print(f'The AUC score on the valid set is: {roc_auc_score(base_valid[\"target\"], base_valid[\"score\"])}') \n",
    "print(f'The AUC score on the test set is: {roc_auc_score(base_test[\"target\"], base_test[\"score\"])}')  "
   ]
  },
  {
   "cell_type": "code",
   "execution_count": 25,
   "metadata": {},
   "outputs": [
    {
     "name": "stdout",
     "output_type": "stream",
     "text": [
      "The stability score on the train set is: 0.4976648127691175\n",
      "The stability score on the valid set is: 0.4726726686264489\n",
      "The stability score on the test set is: 0.4583643686935092\n"
     ]
    }
   ],
   "source": [
    "def gini_stability(base, w_fallingrate=88.0, w_resstd=-0.5):\n",
    "    gini_in_time = base.loc[:, [\"WEEK_NUM\", \"target\", \"score\"]]\\\n",
    "        .sort_values(\"WEEK_NUM\")\\\n",
    "        .groupby(\"WEEK_NUM\")[[\"target\", \"score\"]]\\\n",
    "        .apply(lambda x: 2*roc_auc_score(x[\"target\"], x[\"score\"])-1).tolist()\n",
    "    \n",
    "    x = np.arange(len(gini_in_time))\n",
    "    y = gini_in_time\n",
    "    a, b = np.polyfit(x, y, 1)\n",
    "    y_hat = a*x + b\n",
    "    residuals = y - y_hat\n",
    "    res_std = np.std(residuals)\n",
    "    avg_gini = np.mean(gini_in_time)\n",
    "    return avg_gini + w_fallingrate * min(0, a) + w_resstd * res_std\n",
    "\n",
    "stability_score_train = gini_stability(base_train)\n",
    "stability_score_valid = gini_stability(base_valid)\n",
    "stability_score_test = gini_stability(base_test)\n",
    "\n",
    "print(f'The stability score on the train set is: {stability_score_train}') \n",
    "print(f'The stability score on the valid set is: {stability_score_valid}') \n",
    "print(f'The stability score on the test set is: {stability_score_test}')  "
   ]
  },
  {
   "cell_type": "code",
   "execution_count": 26,
   "metadata": {},
   "outputs": [],
   "source": [
    "X_submission = data_submission[cols_pred].to_pandas()\n",
    "X_submission = convert_strings(X_submission)\n",
    "categorical_cols = X_train.select_dtypes(include=['category']).columns\n",
    "\n",
    "for col in categorical_cols:\n",
    "    train_categories = set(X_train[col].cat.categories)\n",
    "    submission_categories = set(X_submission[col].cat.categories)\n",
    "    new_categories = submission_categories - train_categories\n",
    "    X_submission.loc[X_submission[col].isin(new_categories), col] = \"Unknown\"\n",
    "    new_dtype = pd.CategoricalDtype(categories=train_categories, ordered=True)\n",
    "    X_train[col] = X_train[col].astype(new_dtype)\n",
    "    X_submission[col] = X_submission[col].astype(new_dtype)\n",
    "\n",
    "y_submission_pred = gbm.predict(X_submission, num_iteration=gbm.best_iteration)"
   ]
  },
  {
   "cell_type": "code",
   "execution_count": 27,
   "metadata": {},
   "outputs": [],
   "source": [
    "\n",
    "\n",
    "submission = pd.DataFrame({\n",
    "    \"case_id\": data_submission[\"case_id\"].to_numpy(),\n",
    "    \"score\": y_submission_pred\n",
    "}).set_index('case_id')\n",
    "submission.to_csv(os.path.join(save_path, \"submission.csv\"))"
   ]
  },
  {
   "cell_type": "code",
   "execution_count": null,
   "metadata": {},
   "outputs": [],
   "source": []
  }
 ],
 "metadata": {
  "kernelspec": {
   "display_name": "junya",
   "language": "python",
   "name": "python3"
  },
  "language_info": {
   "codemirror_mode": {
    "name": "ipython",
    "version": 3
   },
   "file_extension": ".py",
   "mimetype": "text/x-python",
   "name": "python",
   "nbconvert_exporter": "python",
   "pygments_lexer": "ipython3",
   "version": "3.10.14"
  }
 },
 "nbformat": 4,
 "nbformat_minor": 2
}
